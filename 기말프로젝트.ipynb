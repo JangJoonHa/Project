{
  "nbformat": 4,
  "nbformat_minor": 0,
  "metadata": {
    "colab": {
      "provenance": [],
      "authorship_tag": "ABX9TyPNmIRM78gnPn5kacZ1scX2",
      "include_colab_link": true
    },
    "kernelspec": {
      "name": "python3",
      "display_name": "Python 3"
    },
    "language_info": {
      "name": "python"
    }
  },
  "cells": [
    {
      "cell_type": "markdown",
      "metadata": {
        "id": "view-in-github",
        "colab_type": "text"
      },
      "source": [
        "<a href=\"https://colab.research.google.com/github/JangJoonHa/Project/blob/main/%EA%B8%B0%EB%A7%90%ED%94%84%EB%A1%9C%EC%A0%9D%ED%8A%B8.ipynb\" target=\"_parent\"><img src=\"https://colab.research.google.com/assets/colab-badge.svg\" alt=\"Open In Colab\"/></a>"
      ]
    },
    {
      "cell_type": "code",
      "source": [
        "import math\n",
        "import itertools\n",
        "\n",
        "# Step 1: Define the buildings and their coordinates\n",
        "buildings = {\n",
        "    'Underwood Hall': (37.5665, 126.9350),\n",
        "    'Science Hall': (37.5659, 126.9344),\n",
        "    'Engineering Building': (37.5662, 126.9337),\n",
        "    'Library': (37.5657, 126.9331),\n",
        "    'Business School': (37.5650, 126.9325),\n",
        "    'Yonsei Main Gate': (37.5668, 126.9385),\n",
        "    'Yonsei Cancer Center': (37.5664, 126.9381),\n",
        "    'Muak Dormitory': (37.5673, 126.9365),\n",
        "    'Baekyangro': (37.5660, 126.9349),\n",
        "    'Student Union Building': (37.5655, 126.9340),\n",
        "    'Alumni Hall': (37.5662, 126.9345),\n",
        "    'President’s Residence': (37.5659, 126.9360),\n",
        "    'Yonsei University Museum': (37.5655, 126.9355),\n",
        "    'Stimson Hall': (37.5663, 126.9360),\n",
        "    'Nursing Building': (37.5665, 126.9370)\n",
        "}\n",
        "\n",
        "# Step 2: Function to calculate the distance between two coordinates (Haversine formula)\n",
        "def haversine(coord1, coord2):\n",
        "    R = 6371  # Radius of the Earth in km\n",
        "    lat1, lon1 = coord1\n",
        "    lat2, lon2 = coord2\n",
        "    phi1 = math.radians(lat1)\n",
        "    phi2 = math.radians(lat2)\n",
        "    delta_phi = math.radians(lat2 - lat1)\n",
        "    delta_lambda = math.radians(lon2 - lon1)\n",
        "    a = math.sin(delta_phi / 2) ** 2 + math.cos(phi1) * math.cos(phi2) * math.sin(delta_lambda / 2) ** 2\n",
        "    c = 2 * math.atan2(math.sqrt(a), math.sqrt(1 - a))\n",
        "    distance = R * c  # in kilometers\n",
        "    return distance\n",
        "\n",
        "# Step 3: Function to calculate the total distance of a given route\n",
        "def total_distance(route):\n",
        "    distance = 0\n",
        "    for i in range(len(route) - 1):\n",
        "        distance += haversine(route[i], route[i + 1])\n",
        "    return distance\n",
        "\n",
        "# Step 4: Function to solve the Traveling Salesman Problem\n",
        "def find_shortest_route(building_names):\n",
        "    coords = [buildings[name] for name in building_names]\n",
        "    min_distance = float('inf')\n",
        "    best_route = None\n",
        "\n",
        "    for perm in itertools.permutations(coords):\n",
        "        current_distance = total_distance(perm)\n",
        "        if current_distance < min_distance:\n",
        "            min_distance = current_distance\n",
        "            best_route = perm\n",
        "\n",
        "    best_route_names = [building_names[coords.index(location)] for location in best_route]\n",
        "    return best_route_names, min_distance\n",
        "\n",
        "# List of available buildings\n",
        "available_buildings = list(buildings.keys())\n",
        "print(\"Available buildings for selection:\")\n",
        "for building in available_buildings:\n",
        "    print(building)\n",
        "\n",
        "while True:\n",
        "    # User input for buildings\n",
        "    building_names = input(\"Enter the names of the buildings, separated by commas: \").split(\", \")\n",
        "\n",
        "    # Check if all entered buildings are valid\n",
        "    invalid_buildings = [name for name in building_names if name not in buildings]\n",
        "    if invalid_buildings:\n",
        "        print(f\"The following building(s) are not valid: {', '.join(invalid_buildings)}\")\n",
        "        print(\"Please enter the correct building names from the available list.\")\n",
        "    else:\n",
        "        break\n",
        "\n",
        "# Find the shortest route\n",
        "shortest_route, shortest_distance = find_shortest_route(building_names)\n",
        "\n",
        "# Output the result\n",
        "print(\"The shortest route to visit all buildings is:\")\n",
        "for i, building in enumerate(shortest_route):\n",
        "    if i == len(shortest_route) - 1:\n",
        "        print(f\"{building}\")\n",
        "    else:\n",
        "        print(f\"{building} -> \", end=\"\")\n",
        "print(f\"Total distance: {shortest_distance:.2f} km\")\n"
      ],
      "metadata": {
        "colab": {
          "base_uri": "https://localhost:8080/"
        },
        "id": "i679muT97mzy",
        "outputId": "04b73ed0-c57d-45bf-aefc-482808c376ff"
      },
      "execution_count": 7,
      "outputs": [
        {
          "output_type": "stream",
          "name": "stdout",
          "text": [
            "Available buildings for selection:\n",
            "Underwood Hall\n",
            "Science Hall\n",
            "Engineering Building\n",
            "Library\n",
            "Business School\n",
            "Yonsei Main Gate\n",
            "Yonsei Cancer Center\n",
            "Muak Dormitory\n",
            "Baekyangro\n",
            "Student Union Building\n",
            "Alumni Hall\n",
            "President’s Residence\n",
            "Yonsei University Museum\n",
            "Stimson Hall\n",
            "Nursing Building\n",
            "Enter the names of the buildings, separated by commas: 장준하\n",
            "The following building(s) are not valid: 장준하\n",
            "Please enter the correct building names from the available list.\n",
            "Enter the names of the buildings, separated by commas: baekyangro, stimson hall\n",
            "The following building(s) are not valid: baekyangro, stimson hall\n",
            "Please enter the correct building names from the available list.\n",
            "Enter the names of the buildings, separated by commas: Muak Dormitory, Business School, Library, Nursing Building\n",
            "The shortest route to visit all buildings is:\n",
            "Business School -> Library -> Muak Dormitory -> Nursing Building\n",
            "Total distance: 0.54 km\n"
          ]
        }
      ]
    }
  ]
}